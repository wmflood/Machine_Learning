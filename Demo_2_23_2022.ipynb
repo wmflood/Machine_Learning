{
 "cells": [
  {
   "cell_type": "code",
   "execution_count": 1,
   "id": "9478cd8d",
   "metadata": {},
   "outputs": [],
   "source": [
    "import pandas as pd"
   ]
  },
  {
   "cell_type": "code",
   "execution_count": 2,
   "id": "ba0b370c",
   "metadata": {},
   "outputs": [],
   "source": [
    "data = [['Alex',11],['Bob',12],['Tom',14]]\n",
    "df = pd.DataFrame(data,columns=['name','age'])"
   ]
  },
  {
   "cell_type": "code",
   "execution_count": 3,
   "id": "2430c357",
   "metadata": {},
   "outputs": [
    {
     "name": "stdout",
     "output_type": "stream",
     "text": [
      "   name  age\n",
      "0  Alex   11\n",
      "1   Bob   12\n",
      "2   Tom   14\n"
     ]
    }
   ],
   "source": [
    "print(df)"
   ]
  },
  {
   "cell_type": "code",
   "execution_count": 4,
   "id": "ca539a13",
   "metadata": {},
   "outputs": [
    {
     "data": {
      "text/html": [
       "<div>\n",
       "<style scoped>\n",
       "    .dataframe tbody tr th:only-of-type {\n",
       "        vertical-align: middle;\n",
       "    }\n",
       "\n",
       "    .dataframe tbody tr th {\n",
       "        vertical-align: top;\n",
       "    }\n",
       "\n",
       "    .dataframe thead th {\n",
       "        text-align: right;\n",
       "    }\n",
       "</style>\n",
       "<table border=\"1\" class=\"dataframe\">\n",
       "  <thead>\n",
       "    <tr style=\"text-align: right;\">\n",
       "      <th></th>\n",
       "      <th>name</th>\n",
       "      <th>age</th>\n",
       "    </tr>\n",
       "  </thead>\n",
       "  <tbody>\n",
       "    <tr>\n",
       "      <th>0</th>\n",
       "      <td>Alex</td>\n",
       "      <td>11</td>\n",
       "    </tr>\n",
       "    <tr>\n",
       "      <th>1</th>\n",
       "      <td>Bob</td>\n",
       "      <td>12</td>\n",
       "    </tr>\n",
       "    <tr>\n",
       "      <th>2</th>\n",
       "      <td>Tom</td>\n",
       "      <td>14</td>\n",
       "    </tr>\n",
       "  </tbody>\n",
       "</table>\n",
       "</div>"
      ],
      "text/plain": [
       "   name  age\n",
       "0  Alex   11\n",
       "1   Bob   12\n",
       "2   Tom   14"
      ]
     },
     "execution_count": 4,
     "metadata": {},
     "output_type": "execute_result"
    }
   ],
   "source": [
    "df.head()"
   ]
  },
  {
   "cell_type": "code",
   "execution_count": 5,
   "id": "277522e7",
   "metadata": {},
   "outputs": [],
   "source": [
    "data = {'Name':['Alex', 'Bob', 'Clarke'],'Age':[10,12,13]}"
   ]
  },
  {
   "cell_type": "code",
   "execution_count": 6,
   "id": "a328227a",
   "metadata": {},
   "outputs": [
    {
     "name": "stdout",
     "output_type": "stream",
     "text": [
      "     Name  Age\n",
      "0    Alex   10\n",
      "1     Bob   12\n",
      "2  Clarke   13\n"
     ]
    }
   ],
   "source": [
    "df2 = pd.DataFrame(data)\n",
    "print(df2)"
   ]
  },
  {
   "cell_type": "code",
   "execution_count": 7,
   "id": "173a82da",
   "metadata": {},
   "outputs": [
    {
     "name": "stdout",
     "output_type": "stream",
     "text": [
      "     Name  Age     hobby\n",
      "0    Alex   10    hiking\n",
      "1     Bob   12  swimming\n",
      "2  Clarke   13     music\n"
     ]
    }
   ],
   "source": [
    "df2[\"hobby\"] = ['hiking','swimming','music']\n",
    "print(df2)"
   ]
  },
  {
   "cell_type": "code",
   "execution_count": 8,
   "id": "7f0b1e34",
   "metadata": {},
   "outputs": [],
   "source": [
    "df3 = pd.read_csv(\"Test_folder/file_demo.csv\",header=None)"
   ]
  },
  {
   "cell_type": "code",
   "execution_count": 9,
   "id": "986641b0",
   "metadata": {},
   "outputs": [
    {
     "data": {
      "text/html": [
       "<div>\n",
       "<style scoped>\n",
       "    .dataframe tbody tr th:only-of-type {\n",
       "        vertical-align: middle;\n",
       "    }\n",
       "\n",
       "    .dataframe tbody tr th {\n",
       "        vertical-align: top;\n",
       "    }\n",
       "\n",
       "    .dataframe thead th {\n",
       "        text-align: right;\n",
       "    }\n",
       "</style>\n",
       "<table border=\"1\" class=\"dataframe\">\n",
       "  <thead>\n",
       "    <tr style=\"text-align: right;\">\n",
       "      <th></th>\n",
       "      <th>0</th>\n",
       "      <th>1</th>\n",
       "    </tr>\n",
       "  </thead>\n",
       "  <tbody>\n",
       "    <tr>\n",
       "      <th>0</th>\n",
       "      <td>514</td>\n",
       "      <td>GIS and Machine Learning</td>\n",
       "    </tr>\n",
       "    <tr>\n",
       "      <th>1</th>\n",
       "      <td>281</td>\n",
       "      <td>Web-based GIS</td>\n",
       "    </tr>\n",
       "    <tr>\n",
       "      <th>2</th>\n",
       "      <td>506</td>\n",
       "      <td>Geographic Information Systems</td>\n",
       "    </tr>\n",
       "    <tr>\n",
       "      <th>3</th>\n",
       "      <td>511</td>\n",
       "      <td>Spatial Data Science</td>\n",
       "    </tr>\n",
       "  </tbody>\n",
       "</table>\n",
       "</div>"
      ],
      "text/plain": [
       "     0                               1\n",
       "0  514        GIS and Machine Learning\n",
       "1  281                   Web-based GIS\n",
       "2  506  Geographic Information Systems\n",
       "3  511            Spatial Data Science"
      ]
     },
     "execution_count": 9,
     "metadata": {},
     "output_type": "execute_result"
    }
   ],
   "source": [
    "df3.head()"
   ]
  },
  {
   "cell_type": "code",
   "execution_count": 10,
   "id": "3cafb9f2",
   "metadata": {},
   "outputs": [
    {
     "data": {
      "text/html": [
       "<div>\n",
       "<style scoped>\n",
       "    .dataframe tbody tr th:only-of-type {\n",
       "        vertical-align: middle;\n",
       "    }\n",
       "\n",
       "    .dataframe tbody tr th {\n",
       "        vertical-align: top;\n",
       "    }\n",
       "\n",
       "    .dataframe thead th {\n",
       "        text-align: right;\n",
       "    }\n",
       "</style>\n",
       "<table border=\"1\" class=\"dataframe\">\n",
       "  <thead>\n",
       "    <tr style=\"text-align: right;\">\n",
       "      <th></th>\n",
       "      <th>Course code</th>\n",
       "      <th>Course Title</th>\n",
       "    </tr>\n",
       "  </thead>\n",
       "  <tbody>\n",
       "    <tr>\n",
       "      <th>0</th>\n",
       "      <td>514</td>\n",
       "      <td>GIS and Machine Learning</td>\n",
       "    </tr>\n",
       "    <tr>\n",
       "      <th>1</th>\n",
       "      <td>281</td>\n",
       "      <td>Web-based GIS</td>\n",
       "    </tr>\n",
       "    <tr>\n",
       "      <th>2</th>\n",
       "      <td>506</td>\n",
       "      <td>Geographic Information Systems</td>\n",
       "    </tr>\n",
       "    <tr>\n",
       "      <th>3</th>\n",
       "      <td>511</td>\n",
       "      <td>Spatial Data Science</td>\n",
       "    </tr>\n",
       "  </tbody>\n",
       "</table>\n",
       "</div>"
      ],
      "text/plain": [
       "   Course code                    Course Title\n",
       "0          514        GIS and Machine Learning\n",
       "1          281                   Web-based GIS\n",
       "2          506  Geographic Information Systems\n",
       "3          511            Spatial Data Science"
      ]
     },
     "execution_count": 10,
     "metadata": {},
     "output_type": "execute_result"
    }
   ],
   "source": [
    "df3.columns=[\"Course code\",\"Course Title\"]\n",
    "df3.head()"
   ]
  },
  {
   "cell_type": "code",
   "execution_count": 12,
   "id": "ee8634a4",
   "metadata": {},
   "outputs": [],
   "source": [
    "record = df3.iloc[2]"
   ]
  },
  {
   "cell_type": "code",
   "execution_count": 13,
   "id": "4cdcd101",
   "metadata": {},
   "outputs": [
    {
     "name": "stdout",
     "output_type": "stream",
     "text": [
      "Course code                                506\n",
      "Course Title    Geographic Information Systems\n",
      "Name: 2, dtype: object\n"
     ]
    }
   ],
   "source": [
    "print(record)"
   ]
  },
  {
   "cell_type": "code",
   "execution_count": 14,
   "id": "ded374d2",
   "metadata": {},
   "outputs": [
    {
     "data": {
      "text/plain": [
       "0          GIS and Machine Learning\n",
       "1                     Web-based GIS\n",
       "2    Geographic Information Systems\n",
       "3              Spatial Data Science\n",
       "Name: Course Title, dtype: object"
      ]
     },
     "execution_count": 14,
     "metadata": {},
     "output_type": "execute_result"
    }
   ],
   "source": [
    "df3[\"Course Title\"]"
   ]
  },
  {
   "cell_type": "code",
   "execution_count": 15,
   "id": "f3040611",
   "metadata": {},
   "outputs": [
    {
     "data": {
      "text/plain": [
       "'Geographic Information Systems'"
      ]
     },
     "execution_count": 15,
     "metadata": {},
     "output_type": "execute_result"
    }
   ],
   "source": [
    "df3.iloc[2][\"Course Title\"]"
   ]
  },
  {
   "cell_type": "code",
   "execution_count": 16,
   "id": "4d4c771f",
   "metadata": {},
   "outputs": [
    {
     "data": {
      "text/plain": [
       "'Geographic Information Systems'"
      ]
     },
     "execution_count": 16,
     "metadata": {},
     "output_type": "execute_result"
    }
   ],
   "source": [
    "df3[\"Course Title\"][2]"
   ]
  },
  {
   "cell_type": "code",
   "execution_count": 17,
   "id": "964ad0e6",
   "metadata": {},
   "outputs": [
    {
     "data": {
      "text/plain": [
       "pandas.core.frame.DataFrame"
      ]
     },
     "execution_count": 17,
     "metadata": {},
     "output_type": "execute_result"
    }
   ],
   "source": [
    "type(df3)"
   ]
  },
  {
   "cell_type": "code",
   "execution_count": 18,
   "id": "78de674b",
   "metadata": {},
   "outputs": [
    {
     "data": {
      "text/plain": [
       "pandas.core.series.Series"
      ]
     },
     "execution_count": 18,
     "metadata": {},
     "output_type": "execute_result"
    }
   ],
   "source": [
    "type(df3[\"Course Title\"])"
   ]
  },
  {
   "cell_type": "code",
   "execution_count": 19,
   "id": "75b5afb5",
   "metadata": {},
   "outputs": [
    {
     "data": {
      "text/html": [
       "<div>\n",
       "<style scoped>\n",
       "    .dataframe tbody tr th:only-of-type {\n",
       "        vertical-align: middle;\n",
       "    }\n",
       "\n",
       "    .dataframe tbody tr th {\n",
       "        vertical-align: top;\n",
       "    }\n",
       "\n",
       "    .dataframe thead th {\n",
       "        text-align: right;\n",
       "    }\n",
       "</style>\n",
       "<table border=\"1\" class=\"dataframe\">\n",
       "  <thead>\n",
       "    <tr style=\"text-align: right;\">\n",
       "      <th></th>\n",
       "      <th>Name</th>\n",
       "      <th>Age</th>\n",
       "      <th>hobby</th>\n",
       "    </tr>\n",
       "  </thead>\n",
       "  <tbody>\n",
       "    <tr>\n",
       "      <th>0</th>\n",
       "      <td>Alex</td>\n",
       "      <td>10</td>\n",
       "      <td>hiking</td>\n",
       "    </tr>\n",
       "    <tr>\n",
       "      <th>1</th>\n",
       "      <td>Bob</td>\n",
       "      <td>12</td>\n",
       "      <td>swimming</td>\n",
       "    </tr>\n",
       "    <tr>\n",
       "      <th>2</th>\n",
       "      <td>Clarke</td>\n",
       "      <td>13</td>\n",
       "      <td>music</td>\n",
       "    </tr>\n",
       "  </tbody>\n",
       "</table>\n",
       "</div>"
      ],
      "text/plain": [
       "     Name  Age     hobby\n",
       "0    Alex   10    hiking\n",
       "1     Bob   12  swimming\n",
       "2  Clarke   13     music"
      ]
     },
     "execution_count": 19,
     "metadata": {},
     "output_type": "execute_result"
    }
   ],
   "source": [
    "df2.head()"
   ]
  },
  {
   "cell_type": "code",
   "execution_count": 20,
   "id": "90ad5f0a",
   "metadata": {},
   "outputs": [
    {
     "data": {
      "text/html": [
       "<div>\n",
       "<style scoped>\n",
       "    .dataframe tbody tr th:only-of-type {\n",
       "        vertical-align: middle;\n",
       "    }\n",
       "\n",
       "    .dataframe tbody tr th {\n",
       "        vertical-align: top;\n",
       "    }\n",
       "\n",
       "    .dataframe thead th {\n",
       "        text-align: right;\n",
       "    }\n",
       "</style>\n",
       "<table border=\"1\" class=\"dataframe\">\n",
       "  <thead>\n",
       "    <tr style=\"text-align: right;\">\n",
       "      <th></th>\n",
       "      <th>Name</th>\n",
       "      <th>Age</th>\n",
       "      <th>hobby</th>\n",
       "    </tr>\n",
       "  </thead>\n",
       "  <tbody>\n",
       "    <tr>\n",
       "      <th>0</th>\n",
       "      <td>Alex</td>\n",
       "      <td>10</td>\n",
       "      <td>hiking</td>\n",
       "    </tr>\n",
       "    <tr>\n",
       "      <th>1</th>\n",
       "      <td>Bob</td>\n",
       "      <td>12</td>\n",
       "      <td>swimming</td>\n",
       "    </tr>\n",
       "  </tbody>\n",
       "</table>\n",
       "</div>"
      ],
      "text/plain": [
       "   Name  Age     hobby\n",
       "0  Alex   10    hiking\n",
       "1   Bob   12  swimming"
      ]
     },
     "execution_count": 20,
     "metadata": {},
     "output_type": "execute_result"
    }
   ],
   "source": [
    "df2[df2[\"Age\"]<13]"
   ]
  },
  {
   "cell_type": "code",
   "execution_count": 21,
   "id": "b9f831be",
   "metadata": {},
   "outputs": [],
   "source": [
    "import geopandas as gpd"
   ]
  },
  {
   "cell_type": "code",
   "execution_count": 22,
   "id": "9375c61d",
   "metadata": {},
   "outputs": [],
   "source": [
    "world_shp = gpd.read_file(\"shp/Countries_2007.shp\")"
   ]
  },
  {
   "cell_type": "code",
   "execution_count": 23,
   "id": "7017721c",
   "metadata": {},
   "outputs": [
    {
     "data": {
      "text/plain": [
       "geopandas.geodataframe.GeoDataFrame"
      ]
     },
     "execution_count": 23,
     "metadata": {},
     "output_type": "execute_result"
    }
   ],
   "source": [
    "type(world_shp)"
   ]
  },
  {
   "cell_type": "code",
   "execution_count": 25,
   "id": "cb70b8c6",
   "metadata": {},
   "outputs": [
    {
     "data": {
      "text/html": [
       "<div>\n",
       "<style scoped>\n",
       "    .dataframe tbody tr th:only-of-type {\n",
       "        vertical-align: middle;\n",
       "    }\n",
       "\n",
       "    .dataframe tbody tr th {\n",
       "        vertical-align: top;\n",
       "    }\n",
       "\n",
       "    .dataframe thead th {\n",
       "        text-align: right;\n",
       "    }\n",
       "</style>\n",
       "<table border=\"1\" class=\"dataframe\">\n",
       "  <thead>\n",
       "    <tr style=\"text-align: right;\">\n",
       "      <th></th>\n",
       "      <th>FIPS_CNTRY</th>\n",
       "      <th>GMI_CNTRY</th>\n",
       "      <th>ISO_2DIGIT</th>\n",
       "      <th>ISO_3DIGIT</th>\n",
       "      <th>ISO_NUM</th>\n",
       "      <th>CNTRY_NAME</th>\n",
       "      <th>LONG_NAME</th>\n",
       "      <th>ISOSHRTNAM</th>\n",
       "      <th>UNSHRTNAM</th>\n",
       "      <th>LOCSHRTNAM</th>\n",
       "      <th>...</th>\n",
       "      <th>Shape_Leng</th>\n",
       "      <th>Shape_Area</th>\n",
       "      <th>TOTCO2_200</th>\n",
       "      <th>GDP_USD</th>\n",
       "      <th>GDP_YR</th>\n",
       "      <th>IMPORT_USD</th>\n",
       "      <th>IMPORT_YR</th>\n",
       "      <th>EXPORT_USD</th>\n",
       "      <th>EXPORT_YR</th>\n",
       "      <th>geometry</th>\n",
       "    </tr>\n",
       "  </thead>\n",
       "  <tbody>\n",
       "    <tr>\n",
       "      <th>0</th>\n",
       "      <td>FK</td>\n",
       "      <td>FLK</td>\n",
       "      <td>FK</td>\n",
       "      <td>FLK</td>\n",
       "      <td>238</td>\n",
       "      <td>Falkland Is.</td>\n",
       "      <td>Falkland Islands (Islas Malvinas)</td>\n",
       "      <td>Falkland Islands (Malvinas)</td>\n",
       "      <td>Falkland Islands (Malvinas)</td>\n",
       "      <td>None</td>\n",
       "      <td>...</td>\n",
       "      <td>19.082566</td>\n",
       "      <td>1.495383</td>\n",
       "      <td>0.034875</td>\n",
       "      <td>7.500000e+07</td>\n",
       "      <td>2002.0</td>\n",
       "      <td>9.000000e+07</td>\n",
       "      <td>2004.0</td>\n",
       "      <td>1.250000e+08</td>\n",
       "      <td>2004.0</td>\n",
       "      <td>MULTIPOLYGON (((-59.34806 -52.34305, -59.37945...</td>\n",
       "    </tr>\n",
       "    <tr>\n",
       "      <th>1</th>\n",
       "      <td>FG</td>\n",
       "      <td>GUF</td>\n",
       "      <td>GF</td>\n",
       "      <td>GUF</td>\n",
       "      <td>254</td>\n",
       "      <td>French Guiana</td>\n",
       "      <td>Department of Guiana</td>\n",
       "      <td>French Guiana</td>\n",
       "      <td>French Guiana</td>\n",
       "      <td>Guyane</td>\n",
       "      <td>...</td>\n",
       "      <td>12.253085</td>\n",
       "      <td>6.807577</td>\n",
       "      <td>1.087413</td>\n",
       "      <td>1.551000e+09</td>\n",
       "      <td>2003.0</td>\n",
       "      <td>6.250000e+08</td>\n",
       "      <td>2002.0</td>\n",
       "      <td>1.375000e+08</td>\n",
       "      <td>2003.0</td>\n",
       "      <td>POLYGON ((-54.60378 2.32919, -54.49917 2.36500...</td>\n",
       "    </tr>\n",
       "    <tr>\n",
       "      <th>2</th>\n",
       "      <td>GY</td>\n",
       "      <td>GUY</td>\n",
       "      <td>GY</td>\n",
       "      <td>GUY</td>\n",
       "      <td>328</td>\n",
       "      <td>Guyana</td>\n",
       "      <td>Co-operative Republic of Guyana</td>\n",
       "      <td>Guyana</td>\n",
       "      <td>Guyana</td>\n",
       "      <td>None</td>\n",
       "      <td>...</td>\n",
       "      <td>25.707599</td>\n",
       "      <td>17.175215</td>\n",
       "      <td>1.715807</td>\n",
       "      <td>3.620000e+09</td>\n",
       "      <td>2006.0</td>\n",
       "      <td>7.069000e+08</td>\n",
       "      <td>2006.0</td>\n",
       "      <td>6.216000e+08</td>\n",
       "      <td>2006.0</td>\n",
       "      <td>POLYGON ((-58.17262 6.81222, -58.15494 6.82819...</td>\n",
       "    </tr>\n",
       "    <tr>\n",
       "      <th>3</th>\n",
       "      <td>PC</td>\n",
       "      <td>PCN</td>\n",
       "      <td>PN</td>\n",
       "      <td>PCN</td>\n",
       "      <td>612</td>\n",
       "      <td>Pitcairn Is.</td>\n",
       "      <td>Pitcairn, Henderson, Ducie, and Oeno Isl</td>\n",
       "      <td>Pitcairn</td>\n",
       "      <td>Pitcairn Island</td>\n",
       "      <td>None</td>\n",
       "      <td>...</td>\n",
       "      <td>0.338167</td>\n",
       "      <td>0.004286</td>\n",
       "      <td>-99.000000</td>\n",
       "      <td>-9.900000e+01</td>\n",
       "      <td>-99.0</td>\n",
       "      <td>-9.900000e+01</td>\n",
       "      <td>-99.0</td>\n",
       "      <td>-9.900000e+01</td>\n",
       "      <td>-99.0</td>\n",
       "      <td>MULTIPOLYGON (((-128.33222 -24.32726, -128.326...</td>\n",
       "    </tr>\n",
       "    <tr>\n",
       "      <th>4</th>\n",
       "      <td>SX</td>\n",
       "      <td>SGS</td>\n",
       "      <td>GS</td>\n",
       "      <td>SGS</td>\n",
       "      <td>239</td>\n",
       "      <td>South Georgia &amp; the South Sandwich Is.</td>\n",
       "      <td>South Georgia and the South Sandwich Is</td>\n",
       "      <td>South Georgia and the South Sandwich Islands</td>\n",
       "      <td>South Georgia and the South Sandwich Islands</td>\n",
       "      <td>None</td>\n",
       "      <td>...</td>\n",
       "      <td>7.337913</td>\n",
       "      <td>0.515458</td>\n",
       "      <td>-99.000000</td>\n",
       "      <td>-9.900000e+01</td>\n",
       "      <td>-99.0</td>\n",
       "      <td>-9.900000e+01</td>\n",
       "      <td>-99.0</td>\n",
       "      <td>-9.900000e+01</td>\n",
       "      <td>-99.0</td>\n",
       "      <td>MULTIPOLYGON (((-36.99139 -54.35056, -36.99973...</td>\n",
       "    </tr>\n",
       "    <tr>\n",
       "      <th>5</th>\n",
       "      <td>SH</td>\n",
       "      <td>SHN</td>\n",
       "      <td>SH</td>\n",
       "      <td>SHN</td>\n",
       "      <td>654</td>\n",
       "      <td>St. Helena</td>\n",
       "      <td>St. Helena</td>\n",
       "      <td>Saint Helena</td>\n",
       "      <td>Saint Helena</td>\n",
       "      <td>None</td>\n",
       "      <td>...</td>\n",
       "      <td>0.417577</td>\n",
       "      <td>0.011014</td>\n",
       "      <td>0.014767</td>\n",
       "      <td>1.800000e+07</td>\n",
       "      <td>1998.0</td>\n",
       "      <td>4.500000e+07</td>\n",
       "      <td>2004.0</td>\n",
       "      <td>1.900000e+07</td>\n",
       "      <td>2004.0</td>\n",
       "      <td>POLYGON ((-5.71297 -15.99286, -5.72916 -16.005...</td>\n",
       "    </tr>\n",
       "    <tr>\n",
       "      <th>6</th>\n",
       "      <td>NS</td>\n",
       "      <td>SUR</td>\n",
       "      <td>SR</td>\n",
       "      <td>SUR</td>\n",
       "      <td>740</td>\n",
       "      <td>Suriname</td>\n",
       "      <td>Republic of Suriname</td>\n",
       "      <td>Suriname</td>\n",
       "      <td>Suriname</td>\n",
       "      <td>Suriname</td>\n",
       "      <td>...</td>\n",
       "      <td>17.126614</td>\n",
       "      <td>11.810421</td>\n",
       "      <td>1.738117</td>\n",
       "      <td>3.098000e+09</td>\n",
       "      <td>2006.0</td>\n",
       "      <td>7.500000e+08</td>\n",
       "      <td>2004.0</td>\n",
       "      <td>8.810000e+08</td>\n",
       "      <td>2004.0</td>\n",
       "      <td>POLYGON ((-55.12796 5.82217, -55.10445 5.83945...</td>\n",
       "    </tr>\n",
       "    <tr>\n",
       "      <th>7</th>\n",
       "      <td>TD</td>\n",
       "      <td>TTO</td>\n",
       "      <td>TT</td>\n",
       "      <td>TTO</td>\n",
       "      <td>780</td>\n",
       "      <td>Trinidad &amp; Tobago</td>\n",
       "      <td>Republic of Trinidad and Tobago</td>\n",
       "      <td>Trinidad and Tobago</td>\n",
       "      <td>Trinidad and Tobago</td>\n",
       "      <td>None</td>\n",
       "      <td>...</td>\n",
       "      <td>4.384973</td>\n",
       "      <td>0.413753</td>\n",
       "      <td>32.561921</td>\n",
       "      <td>2.099000e+10</td>\n",
       "      <td>2006.0</td>\n",
       "      <td>8.798000e+09</td>\n",
       "      <td>2006.0</td>\n",
       "      <td>1.250000e+10</td>\n",
       "      <td>2006.0</td>\n",
       "      <td>MULTIPOLYGON (((-61.07945 10.82416, -61.07556 ...</td>\n",
       "    </tr>\n",
       "    <tr>\n",
       "      <th>8</th>\n",
       "      <td>VE</td>\n",
       "      <td>VEN</td>\n",
       "      <td>VE</td>\n",
       "      <td>VEN</td>\n",
       "      <td>862</td>\n",
       "      <td>Venezuela</td>\n",
       "      <td>Bolivarian Republic of Venezuela</td>\n",
       "      <td>Venezuela</td>\n",
       "      <td>Venezuela</td>\n",
       "      <td>Venezuela</td>\n",
       "      <td>...</td>\n",
       "      <td>76.947450</td>\n",
       "      <td>74.628377</td>\n",
       "      <td>142.680366</td>\n",
       "      <td>1.764000e+11</td>\n",
       "      <td>2006.0</td>\n",
       "      <td>2.881000e+10</td>\n",
       "      <td>2006.0</td>\n",
       "      <td>6.923000e+10</td>\n",
       "      <td>2006.0</td>\n",
       "      <td>MULTIPOLYGON (((-66.31029 10.62602, -66.28309 ...</td>\n",
       "    </tr>\n",
       "    <tr>\n",
       "      <th>9</th>\n",
       "      <td>AQ</td>\n",
       "      <td>ASM</td>\n",
       "      <td>AS</td>\n",
       "      <td>ASM</td>\n",
       "      <td>16</td>\n",
       "      <td>American Samoa</td>\n",
       "      <td>Territory of American Samoa</td>\n",
       "      <td>American Samoa</td>\n",
       "      <td>American Samoa</td>\n",
       "      <td>None</td>\n",
       "      <td>...</td>\n",
       "      <td>0.600124</td>\n",
       "      <td>0.013720</td>\n",
       "      <td>0.581864</td>\n",
       "      <td>5.101000e+08</td>\n",
       "      <td>2003.0</td>\n",
       "      <td>3.088000e+08</td>\n",
       "      <td>2004.0</td>\n",
       "      <td>4.456000e+08</td>\n",
       "      <td>2004.0</td>\n",
       "      <td>POLYGON ((-170.74390 -14.37555, -170.74942 -14...</td>\n",
       "    </tr>\n",
       "  </tbody>\n",
       "</table>\n",
       "<p>10 rows × 33 columns</p>\n",
       "</div>"
      ],
      "text/plain": [
       "  FIPS_CNTRY GMI_CNTRY ISO_2DIGIT ISO_3DIGIT  ISO_NUM  \\\n",
       "0         FK       FLK         FK        FLK      238   \n",
       "1         FG       GUF         GF        GUF      254   \n",
       "2         GY       GUY         GY        GUY      328   \n",
       "3         PC       PCN         PN        PCN      612   \n",
       "4         SX       SGS         GS        SGS      239   \n",
       "5         SH       SHN         SH        SHN      654   \n",
       "6         NS       SUR         SR        SUR      740   \n",
       "7         TD       TTO         TT        TTO      780   \n",
       "8         VE       VEN         VE        VEN      862   \n",
       "9         AQ       ASM         AS        ASM       16   \n",
       "\n",
       "                               CNTRY_NAME  \\\n",
       "0                            Falkland Is.   \n",
       "1                           French Guiana   \n",
       "2                                  Guyana   \n",
       "3                            Pitcairn Is.   \n",
       "4  South Georgia & the South Sandwich Is.   \n",
       "5                              St. Helena   \n",
       "6                                Suriname   \n",
       "7                       Trinidad & Tobago   \n",
       "8                               Venezuela   \n",
       "9                          American Samoa   \n",
       "\n",
       "                                  LONG_NAME  \\\n",
       "0         Falkland Islands (Islas Malvinas)   \n",
       "1                      Department of Guiana   \n",
       "2           Co-operative Republic of Guyana   \n",
       "3  Pitcairn, Henderson, Ducie, and Oeno Isl   \n",
       "4   South Georgia and the South Sandwich Is   \n",
       "5                                St. Helena   \n",
       "6                      Republic of Suriname   \n",
       "7           Republic of Trinidad and Tobago   \n",
       "8          Bolivarian Republic of Venezuela   \n",
       "9               Territory of American Samoa   \n",
       "\n",
       "                                     ISOSHRTNAM  \\\n",
       "0                   Falkland Islands (Malvinas)   \n",
       "1                                 French Guiana   \n",
       "2                                        Guyana   \n",
       "3                                      Pitcairn   \n",
       "4  South Georgia and the South Sandwich Islands   \n",
       "5                                  Saint Helena   \n",
       "6                                      Suriname   \n",
       "7                           Trinidad and Tobago   \n",
       "8                                     Venezuela   \n",
       "9                                American Samoa   \n",
       "\n",
       "                                      UNSHRTNAM LOCSHRTNAM  ... Shape_Leng  \\\n",
       "0                   Falkland Islands (Malvinas)       None  ...  19.082566   \n",
       "1                                 French Guiana     Guyane  ...  12.253085   \n",
       "2                                        Guyana       None  ...  25.707599   \n",
       "3                               Pitcairn Island       None  ...   0.338167   \n",
       "4  South Georgia and the South Sandwich Islands       None  ...   7.337913   \n",
       "5                                  Saint Helena       None  ...   0.417577   \n",
       "6                                      Suriname   Suriname  ...  17.126614   \n",
       "7                           Trinidad and Tobago       None  ...   4.384973   \n",
       "8                                     Venezuela  Venezuela  ...  76.947450   \n",
       "9                                American Samoa       None  ...   0.600124   \n",
       "\n",
       "  Shape_Area  TOTCO2_200       GDP_USD  GDP_YR    IMPORT_USD  IMPORT_YR  \\\n",
       "0   1.495383    0.034875  7.500000e+07  2002.0  9.000000e+07     2004.0   \n",
       "1   6.807577    1.087413  1.551000e+09  2003.0  6.250000e+08     2002.0   \n",
       "2  17.175215    1.715807  3.620000e+09  2006.0  7.069000e+08     2006.0   \n",
       "3   0.004286  -99.000000 -9.900000e+01   -99.0 -9.900000e+01      -99.0   \n",
       "4   0.515458  -99.000000 -9.900000e+01   -99.0 -9.900000e+01      -99.0   \n",
       "5   0.011014    0.014767  1.800000e+07  1998.0  4.500000e+07     2004.0   \n",
       "6  11.810421    1.738117  3.098000e+09  2006.0  7.500000e+08     2004.0   \n",
       "7   0.413753   32.561921  2.099000e+10  2006.0  8.798000e+09     2006.0   \n",
       "8  74.628377  142.680366  1.764000e+11  2006.0  2.881000e+10     2006.0   \n",
       "9   0.013720    0.581864  5.101000e+08  2003.0  3.088000e+08     2004.0   \n",
       "\n",
       "     EXPORT_USD  EXPORT_YR                                           geometry  \n",
       "0  1.250000e+08     2004.0  MULTIPOLYGON (((-59.34806 -52.34305, -59.37945...  \n",
       "1  1.375000e+08     2003.0  POLYGON ((-54.60378 2.32919, -54.49917 2.36500...  \n",
       "2  6.216000e+08     2006.0  POLYGON ((-58.17262 6.81222, -58.15494 6.82819...  \n",
       "3 -9.900000e+01      -99.0  MULTIPOLYGON (((-128.33222 -24.32726, -128.326...  \n",
       "4 -9.900000e+01      -99.0  MULTIPOLYGON (((-36.99139 -54.35056, -36.99973...  \n",
       "5  1.900000e+07     2004.0  POLYGON ((-5.71297 -15.99286, -5.72916 -16.005...  \n",
       "6  8.810000e+08     2004.0  POLYGON ((-55.12796 5.82217, -55.10445 5.83945...  \n",
       "7  1.250000e+10     2006.0  MULTIPOLYGON (((-61.07945 10.82416, -61.07556 ...  \n",
       "8  6.923000e+10     2006.0  MULTIPOLYGON (((-66.31029 10.62602, -66.28309 ...  \n",
       "9  4.456000e+08     2004.0  POLYGON ((-170.74390 -14.37555, -170.74942 -14...  \n",
       "\n",
       "[10 rows x 33 columns]"
      ]
     },
     "execution_count": 25,
     "metadata": {},
     "output_type": "execute_result"
    }
   ],
   "source": [
    "world_shp.head(10)"
   ]
  },
  {
   "cell_type": "code",
   "execution_count": 27,
   "id": "d49f1426",
   "metadata": {},
   "outputs": [
    {
     "data": {
      "text/plain": [
       "<AxesSubplot:>"
      ]
     },
     "execution_count": 27,
     "metadata": {},
     "output_type": "execute_result"
    },
    {
     "data": {
      "image/png": "[encoded data removed]",
      "text/plain": [
       "<Figure size 720x576 with 1 Axes>"
      ]
     },
     "metadata": {
      "needs_background": "light"
     },
     "output_type": "display_data"
    }
   ],
   "source": [
    "world_shp.plot(figsize=(10,8))"
   ]
  },
  {
   "cell_type": "code",
   "execution_count": 28,
   "id": "74a48efe",
   "metadata": {},
   "outputs": [
    {
     "data": {
      "text/plain": [
       "Index(['FIPS_CNTRY', 'GMI_CNTRY', 'ISO_2DIGIT', 'ISO_3DIGIT', 'ISO_NUM',\n",
       "       'CNTRY_NAME', 'LONG_NAME', 'ISOSHRTNAM', 'UNSHRTNAM', 'LOCSHRTNAM',\n",
       "       'LOCLNGNAM', 'STATUS', 'SQKM', 'SQMI', 'POP2007', 'POP2015', 'POP2025',\n",
       "       'POP014_07', 'POP1564_07', 'HIVAIDSTOT', 'HIVAIDS_YR', 'HIVDTH',\n",
       "       'HIVDTH_YR', 'Shape_Leng', 'Shape_Area', 'TOTCO2_200', 'GDP_USD',\n",
       "       'GDP_YR', 'IMPORT_USD', 'IMPORT_YR', 'EXPORT_USD', 'EXPORT_YR',\n",
       "       'geometry'],\n",
       "      dtype='object')"
      ]
     },
     "execution_count": 28,
     "metadata": {},
     "output_type": "execute_result"
    }
   ],
   "source": [
    "world_shp.columns"
   ]
  },
  {
   "cell_type": "code",
   "execution_count": 29,
   "id": "d29f7755",
   "metadata": {},
   "outputs": [
    {
     "data": {
      "text/plain": [
       "0      MULTIPOLYGON (((-59.34806 -52.34305, -59.37945...\n",
       "1      POLYGON ((-54.60378 2.32919, -54.49917 2.36500...\n",
       "2      POLYGON ((-58.17262 6.81222, -58.15494 6.82819...\n",
       "3      MULTIPOLYGON (((-128.33222 -24.32726, -128.326...\n",
       "4      MULTIPOLYGON (((-36.99139 -54.35056, -36.99973...\n",
       "                             ...                        \n",
       "244    MULTIPOLYGON (((160.82025 -9.82945, 160.82524 ...\n",
       "245    MULTIPOLYGON (((179.21323 -8.56129, 179.20241 ...\n",
       "246    MULTIPOLYGON (((167.10782 -15.12370, 167.13136...\n",
       "247    POLYGON ((18.45555 42.56583, 18.46389 42.56945...\n",
       "248    POLYGON ((20.07142 42.56091, 20.09993 42.65770...\n",
       "Name: geometry, Length: 249, dtype: geometry"
      ]
     },
     "execution_count": 29,
     "metadata": {},
     "output_type": "execute_result"
    }
   ],
   "source": [
    "world_shp['geometry']"
   ]
  },
  {
   "cell_type": "code",
   "execution_count": 30,
   "id": "e32fffe2",
   "metadata": {},
   "outputs": [
    {
     "data": {
      "text/plain": [
       "geopandas.geoseries.GeoSeries"
      ]
     },
     "execution_count": 30,
     "metadata": {},
     "output_type": "execute_result"
    }
   ],
   "source": [
    "type(world_shp['geometry'])"
   ]
  },
  {
   "cell_type": "code",
   "execution_count": 31,
   "id": "71d4c106",
   "metadata": {},
   "outputs": [
    {
     "data": {
      "text/plain": [
       "pandas.core.series.Series"
      ]
     },
     "execution_count": 31,
     "metadata": {},
     "output_type": "execute_result"
    }
   ],
   "source": [
    "type(world_shp['POP2015'])"
   ]
  },
  {
   "cell_type": "code",
   "execution_count": 32,
   "id": "1deca7d5",
   "metadata": {},
   "outputs": [],
   "source": [
    "big_population_countries = world_shp[world_shp['POP2015']>100000000]"
   ]
  },
  {
   "cell_type": "code",
   "execution_count": 33,
   "id": "cf8d3fa2",
   "metadata": {},
   "outputs": [
    {
     "data": {
      "text/html": [
       "<div>\n",
       "<style scoped>\n",
       "    .dataframe tbody tr th:only-of-type {\n",
       "        vertical-align: middle;\n",
       "    }\n",
       "\n",
       "    .dataframe tbody tr th {\n",
       "        vertical-align: top;\n",
       "    }\n",
       "\n",
       "    .dataframe thead th {\n",
       "        text-align: right;\n",
       "    }\n",
       "</style>\n",
       "<table border=\"1\" class=\"dataframe\">\n",
       "  <thead>\n",
       "    <tr style=\"text-align: right;\">\n",
       "      <th></th>\n",
       "      <th>FIPS_CNTRY</th>\n",
       "      <th>GMI_CNTRY</th>\n",
       "      <th>ISO_2DIGIT</th>\n",
       "      <th>ISO_3DIGIT</th>\n",
       "      <th>ISO_NUM</th>\n",
       "      <th>CNTRY_NAME</th>\n",
       "      <th>LONG_NAME</th>\n",
       "      <th>ISOSHRTNAM</th>\n",
       "      <th>UNSHRTNAM</th>\n",
       "      <th>LOCSHRTNAM</th>\n",
       "      <th>...</th>\n",
       "      <th>Shape_Leng</th>\n",
       "      <th>Shape_Area</th>\n",
       "      <th>TOTCO2_200</th>\n",
       "      <th>GDP_USD</th>\n",
       "      <th>GDP_YR</th>\n",
       "      <th>IMPORT_USD</th>\n",
       "      <th>IMPORT_YR</th>\n",
       "      <th>EXPORT_USD</th>\n",
       "      <th>EXPORT_YR</th>\n",
       "      <th>geometry</th>\n",
       "    </tr>\n",
       "  </thead>\n",
       "  <tbody>\n",
       "    <tr>\n",
       "      <th>20</th>\n",
       "      <td>BR</td>\n",
       "      <td>BRA</td>\n",
       "      <td>BR</td>\n",
       "      <td>BRA</td>\n",
       "      <td>76</td>\n",
       "      <td>Brazil</td>\n",
       "      <td>Federative Republic of Brazil</td>\n",
       "      <td>Brazil</td>\n",
       "      <td>Brazil</td>\n",
       "      <td>Brasil</td>\n",
       "      <td>...</td>\n",
       "      <td>248.756714</td>\n",
       "      <td>707.050676</td>\n",
       "      <td>336.713021</td>\n",
       "      <td>1.616000e+12</td>\n",
       "      <td>2006.0</td>\n",
       "      <td>9.583000e+10</td>\n",
       "      <td>2006.0</td>\n",
       "      <td>1.380000e+11</td>\n",
       "      <td>2006.0</td>\n",
       "      <td>MULTIPOLYGON (((-44.695 -1.818, -44.640 -1.789...</td>\n",
       "    </tr>\n",
       "    <tr>\n",
       "      <th>31</th>\n",
       "      <td>MX</td>\n",
       "      <td>MEX</td>\n",
       "      <td>MX</td>\n",
       "      <td>MEX</td>\n",
       "      <td>484</td>\n",
       "      <td>Mexico</td>\n",
       "      <td>United Mexican States</td>\n",
       "      <td>Mexico</td>\n",
       "      <td>Mexico</td>\n",
       "      <td>Mexico</td>\n",
       "      <td>...</td>\n",
       "      <td>149.331093</td>\n",
       "      <td>174.117659</td>\n",
       "      <td>385.457508</td>\n",
       "      <td>1.134000e+12</td>\n",
       "      <td>2006.0</td>\n",
       "      <td>2.531000e+11</td>\n",
       "      <td>2006.0</td>\n",
       "      <td>2.488000e+11</td>\n",
       "      <td>2006.0</td>\n",
       "      <td>MULTIPOLYGON (((-111.560 24.429, -111.576 24.4...</td>\n",
       "    </tr>\n",
       "    <tr>\n",
       "      <th>103</th>\n",
       "      <td>RS</td>\n",
       "      <td>RUS</td>\n",
       "      <td>RU</td>\n",
       "      <td>RUS</td>\n",
       "      <td>643</td>\n",
       "      <td>Russia</td>\n",
       "      <td>Russian Federation</td>\n",
       "      <td>Russian Federation</td>\n",
       "      <td>Russian Federation</td>\n",
       "      <td>Rossiya</td>\n",
       "      <td>...</td>\n",
       "      <td>1536.174273</td>\n",
       "      <td>2931.554549</td>\n",
       "      <td>1684.836903</td>\n",
       "      <td>1.723000e+12</td>\n",
       "      <td>2006.0</td>\n",
       "      <td>1.715000e+11</td>\n",
       "      <td>2006.0</td>\n",
       "      <td>3.176000e+11</td>\n",
       "      <td>2006.0</td>\n",
       "      <td>MULTIPOLYGON (((137.267 53.610, 137.229 53.603...</td>\n",
       "    </tr>\n",
       "    <tr>\n",
       "      <th>118</th>\n",
       "      <td>NI</td>\n",
       "      <td>NGA</td>\n",
       "      <td>NG</td>\n",
       "      <td>NGA</td>\n",
       "      <td>566</td>\n",
       "      <td>Nigeria</td>\n",
       "      <td>Federal Republic of Nigeria</td>\n",
       "      <td>Nigeria</td>\n",
       "      <td>Nigeria</td>\n",
       "      <td>None</td>\n",
       "      <td>...</td>\n",
       "      <td>48.108081</td>\n",
       "      <td>74.887642</td>\n",
       "      <td>93.952123</td>\n",
       "      <td>1.885000e+11</td>\n",
       "      <td>2006.0</td>\n",
       "      <td>2.510000e+10</td>\n",
       "      <td>2006.0</td>\n",
       "      <td>5.901000e+10</td>\n",
       "      <td>2006.0</td>\n",
       "      <td>MULTIPOLYGON (((11.799 7.297, 11.755 7.268, 11...</td>\n",
       "    </tr>\n",
       "    <tr>\n",
       "      <th>152</th>\n",
       "      <td>US</td>\n",
       "      <td>USA</td>\n",
       "      <td>US</td>\n",
       "      <td>USA</td>\n",
       "      <td>840</td>\n",
       "      <td>United States</td>\n",
       "      <td>United States of America</td>\n",
       "      <td>United States</td>\n",
       "      <td>United States of America</td>\n",
       "      <td>None</td>\n",
       "      <td>...</td>\n",
       "      <td>726.106062</td>\n",
       "      <td>1116.670605</td>\n",
       "      <td>5912.207212</td>\n",
       "      <td>1.298000e+13</td>\n",
       "      <td>2006.0</td>\n",
       "      <td>1.869000e+12</td>\n",
       "      <td>2006.0</td>\n",
       "      <td>1.024000e+12</td>\n",
       "      <td>2006.0</td>\n",
       "      <td>MULTIPOLYGON (((-76.395 39.230, -76.387 39.226...</td>\n",
       "    </tr>\n",
       "  </tbody>\n",
       "</table>\n",
       "<p>5 rows × 33 columns</p>\n",
       "</div>"
      ],
      "text/plain": [
       "    FIPS_CNTRY GMI_CNTRY ISO_2DIGIT ISO_3DIGIT  ISO_NUM     CNTRY_NAME  \\\n",
       "20          BR       BRA         BR        BRA       76         Brazil   \n",
       "31          MX       MEX         MX        MEX      484         Mexico   \n",
       "103         RS       RUS         RU        RUS      643         Russia   \n",
       "118         NI       NGA         NG        NGA      566        Nigeria   \n",
       "152         US       USA         US        USA      840  United States   \n",
       "\n",
       "                         LONG_NAME          ISOSHRTNAM  \\\n",
       "20   Federative Republic of Brazil              Brazil   \n",
       "31           United Mexican States              Mexico   \n",
       "103             Russian Federation  Russian Federation   \n",
       "118    Federal Republic of Nigeria             Nigeria   \n",
       "152       United States of America       United States   \n",
       "\n",
       "                    UNSHRTNAM LOCSHRTNAM  ...   Shape_Leng   Shape_Area  \\\n",
       "20                     Brazil     Brasil  ...   248.756714   707.050676   \n",
       "31                     Mexico     Mexico  ...   149.331093   174.117659   \n",
       "103        Russian Federation    Rossiya  ...  1536.174273  2931.554549   \n",
       "118                   Nigeria       None  ...    48.108081    74.887642   \n",
       "152  United States of America       None  ...   726.106062  1116.670605   \n",
       "\n",
       "      TOTCO2_200       GDP_USD  GDP_YR    IMPORT_USD  IMPORT_YR    EXPORT_USD  \\\n",
       "20    336.713021  1.616000e+12  2006.0  9.583000e+10     2006.0  1.380000e+11   \n",
       "31    385.457508  1.134000e+12  2006.0  2.531000e+11     2006.0  2.488000e+11   \n",
       "103  1684.836903  1.723000e+12  2006.0  1.715000e+11     2006.0  3.176000e+11   \n",
       "118    93.952123  1.885000e+11  2006.0  2.510000e+10     2006.0  5.901000e+10   \n",
       "152  5912.207212  1.298000e+13  2006.0  1.869000e+12     2006.0  1.024000e+12   \n",
       "\n",
       "     EXPORT_YR                                           geometry  \n",
       "20      2006.0  MULTIPOLYGON (((-44.695 -1.818, -44.640 -1.789...  \n",
       "31      2006.0  MULTIPOLYGON (((-111.560 24.429, -111.576 24.4...  \n",
       "103     2006.0  MULTIPOLYGON (((137.267 53.610, 137.229 53.603...  \n",
       "118     2006.0  MULTIPOLYGON (((11.799 7.297, 11.755 7.268, 11...  \n",
       "152     2006.0  MULTIPOLYGON (((-76.395 39.230, -76.387 39.226...  \n",
       "\n",
       "[5 rows x 33 columns]"
      ]
     },
     "execution_count": 33,
     "metadata": {},
     "output_type": "execute_result"
    }
   ],
   "source": [
    "big_population_countries.head()"
   ]
  },
  {
   "cell_type": "code",
   "execution_count": 34,
   "id": "3bd30544",
   "metadata": {},
   "outputs": [
    {
     "data": {
      "text/plain": [
       "<AxesSubplot:>"
      ]
     },
     "execution_count": 34,
     "metadata": {},
     "output_type": "execute_result"
    },
    {
     "data": {
      "image/png": "[encoded data removed]",
      "text/plain": [
       "<Figure size 720x576 with 1 Axes>"
      ]
     },
     "metadata": {
      "needs_background": "light"
     },
     "output_type": "display_data"
    }
   ],
   "source": [
    "big_population_countries.plot(figsize=(10,8))"
   ]
  },
  {
   "cell_type": "code",
   "execution_count": 35,
   "id": "7dfd29b5",
   "metadata": {},
   "outputs": [
    {
     "data": {
      "text/plain": [
       "{'init': 'epsg:4326'}"
      ]
     },
     "execution_count": 35,
     "metadata": {},
     "output_type": "execute_result"
    }
   ],
   "source": [
    "world_shp.crs"
   ]
  },
  {
   "cell_type": "code",
   "execution_count": 36,
   "id": "8b71e42d",
   "metadata": {},
   "outputs": [
    {
     "data": {
      "text/plain": [
       "['naturalearth_cities', 'naturalearth_lowres', 'nybb']"
      ]
     },
     "execution_count": 36,
     "metadata": {},
     "output_type": "execute_result"
    }
   ],
   "source": [
    "gpd.datasets.available"
   ]
  },
  {
   "cell_type": "code",
   "execution_count": 37,
   "id": "83c9f1a9",
   "metadata": {},
   "outputs": [],
   "source": [
    "ne_world = gpd.read_file(gpd.datasets.get_path('naturalearth_lowres'))"
   ]
  },
  {
   "cell_type": "code",
   "execution_count": 38,
   "id": "5c82fa06",
   "metadata": {},
   "outputs": [
    {
     "data": {
      "text/plain": [
       "<AxesSubplot:>"
      ]
     },
     "execution_count": 38,
     "metadata": {},
     "output_type": "execute_result"
    },
    {
     "data": {
      "image/png": "[encoded data removed]",
      "text/plain": [
       "<Figure size 432x288 with 1 Axes>"
      ]
     },
     "metadata": {
      "needs_background": "light"
     },
     "output_type": "display_data"
    }
   ],
   "source": [
    "ne_world.plot()"
   ]
  },
  {
   "cell_type": "code",
   "execution_count": 39,
   "id": "c6d2d9be",
   "metadata": {},
   "outputs": [
    {
     "data": {
      "text/plain": [
       "Index(['pop_est', 'continent', 'name', 'iso_a3', 'gdp_md_est', 'geometry'], dtype='object')"
      ]
     },
     "execution_count": 39,
     "metadata": {},
     "output_type": "execute_result"
    }
   ],
   "source": [
    "ne_world.columns"
   ]
  },
  {
   "cell_type": "code",
   "execution_count": 40,
   "id": "7d8d6af1",
   "metadata": {},
   "outputs": [],
   "source": [
    "cities = gpd.read_file(gpd.datasets.get_path('naturalearth_cities'))"
   ]
  },
  {
   "cell_type": "code",
   "execution_count": 41,
   "id": "7f5e4e68",
   "metadata": {},
   "outputs": [],
   "source": [
    "import matplotlib.pyplot as plt"
   ]
  },
  {
   "cell_type": "code",
   "execution_count": 45,
   "id": "6851bb04",
   "metadata": {},
   "outputs": [
    {
     "data": {
      "text/plain": [
       "<AxesSubplot:>"
      ]
     },
     "execution_count": 45,
     "metadata": {},
     "output_type": "execute_result"
    },
    {
     "data": {
      "image/png": "[encoded data removed]",
      "text/plain": [
       "<Figure size 720x576 with 1 Axes>"
      ]
     },
     "metadata": {
      "needs_background": "light"
     },
     "output_type": "display_data"
    }
   ],
   "source": [
    "fig, ax = plt.subplots(figsize=(10,8))\n",
    "ne_world.plot(ax=ax, color='white',edgecolor='black')\n",
    "cities.plot(ax=ax,marker=\"o\", color='red', markersize=8)"
   ]
  },
  {
   "cell_type": "code",
   "execution_count": null,
   "id": "2d127ed6",
   "metadata": {},
   "outputs": [],
   "source": []
  }
 ],
 "metadata": {
  "kernelspec": {
   "display_name": "Python 3 (ipykernel)",
   "language": "python",
   "name": "python3"
  },
  "language_info": {
   "codemirror_mode": {
    "name": "ipython",
    "version": 3
   },
   "file_extension": ".py",
   "mimetype": "text/x-python",
   "name": "python",
   "nbconvert_exporter": "python",
   "pygments_lexer": "ipython3",
   "version": "3.7.11"
  }
 },
 "nbformat": 4,
 "nbformat_minor": 5
}
