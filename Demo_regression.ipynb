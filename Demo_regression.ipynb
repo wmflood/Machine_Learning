{
 "cells": [
  {
   "cell_type": "code",
   "execution_count": 1,
   "id": "4b1acc25",
   "metadata": {},
   "outputs": [],
   "source": [
    "import geopandas as gpd"
   ]
  },
  {
   "cell_type": "code",
   "execution_count": 2,
   "id": "9f83d4fa",
   "metadata": {},
   "outputs": [],
   "source": [
    "coastline_shp = gpd.read_file(\"data/coastline_marine_attr.shp\")"
   ]
  },
  {
   "cell_type": "code",
   "execution_count": 3,
   "id": "ef70b3d7",
   "metadata": {},
   "outputs": [
    {
     "data": {
      "text/plain": [
       "<AxesSubplot:>"
      ]
     },
     "execution_count": 3,
     "metadata": {},
     "output_type": "execute_result"
    },
    {
     "data": {
      "image/png": "[encoded data removed]",
      "text/plain": [
       "<Figure size 432x288 with 1 Axes>"
      ]
     },
     "metadata": {
      "needs_background": "light"
     },
     "output_type": "display_data"
    }
   ],
   "source": [
    "coastline_shp.plot()"
   ]
  },
  {
   "cell_type": "code",
   "execution_count": 4,
   "id": "3d4a08e2",
   "metadata": {},
   "outputs": [
    {
     "data": {
      "text/html": [
       "<div>\n",
       "<style scoped>\n",
       "    .dataframe tbody tr th:only-of-type {\n",
       "        vertical-align: middle;\n",
       "    }\n",
       "\n",
       "    .dataframe tbody tr th {\n",
       "        vertical-align: top;\n",
       "    }\n",
       "\n",
       "    .dataframe thead th {\n",
       "        text-align: right;\n",
       "    }\n",
       "</style>\n",
       "<table border=\"1\" class=\"dataframe\">\n",
       "  <thead>\n",
       "    <tr style=\"text-align: right;\">\n",
       "      <th></th>\n",
       "      <th>CID</th>\n",
       "      <th>salinity</th>\n",
       "      <th>srtm30</th>\n",
       "      <th>silicate</th>\n",
       "      <th>phosphate</th>\n",
       "      <th>nitrate</th>\n",
       "      <th>disso2</th>\n",
       "      <th>temp</th>\n",
       "      <th>geometry</th>\n",
       "    </tr>\n",
       "  </thead>\n",
       "  <tbody>\n",
       "    <tr>\n",
       "      <th>0</th>\n",
       "      <td>1</td>\n",
       "      <td>36.1645</td>\n",
       "      <td>-13.54730</td>\n",
       "      <td>2.14787</td>\n",
       "      <td>0.085490</td>\n",
       "      <td>0.672583</td>\n",
       "      <td>4.73538</td>\n",
       "      <td>26.0314</td>\n",
       "      <td>POINT (-82.22100 24.50021)</td>\n",
       "    </tr>\n",
       "    <tr>\n",
       "      <th>1</th>\n",
       "      <td>1</td>\n",
       "      <td>35.8820</td>\n",
       "      <td>-5.29631</td>\n",
       "      <td>3.39048</td>\n",
       "      <td>0.081309</td>\n",
       "      <td>0.589654</td>\n",
       "      <td>4.82170</td>\n",
       "      <td>26.2659</td>\n",
       "      <td>POINT (-81.16694 25.14926)</td>\n",
       "    </tr>\n",
       "    <tr>\n",
       "      <th>2</th>\n",
       "      <td>1</td>\n",
       "      <td>28.2685</td>\n",
       "      <td>5.36795</td>\n",
       "      <td>4.50515</td>\n",
       "      <td>0.220880</td>\n",
       "      <td>1.225100</td>\n",
       "      <td>4.74903</td>\n",
       "      <td>23.2961</td>\n",
       "      <td>POINT (-90.58674 29.24938)</td>\n",
       "    </tr>\n",
       "    <tr>\n",
       "      <th>3</th>\n",
       "      <td>1</td>\n",
       "      <td>27.8134</td>\n",
       "      <td>-11.50460</td>\n",
       "      <td>2.30621</td>\n",
       "      <td>0.353542</td>\n",
       "      <td>2.226290</td>\n",
       "      <td>5.55894</td>\n",
       "      <td>14.3673</td>\n",
       "      <td>POINT (-76.05466 36.96940)</td>\n",
       "    </tr>\n",
       "    <tr>\n",
       "      <th>4</th>\n",
       "      <td>1</td>\n",
       "      <td>16.0193</td>\n",
       "      <td>-4.73809</td>\n",
       "      <td>2.47356</td>\n",
       "      <td>0.409711</td>\n",
       "      <td>2.607220</td>\n",
       "      <td>5.76708</td>\n",
       "      <td>13.9874</td>\n",
       "      <td>POINT (-76.38891 39.27398)</td>\n",
       "    </tr>\n",
       "  </tbody>\n",
       "</table>\n",
       "</div>"
      ],
      "text/plain": [
       "   CID  salinity    srtm30  silicate  phosphate   nitrate   disso2     temp  \\\n",
       "0    1   36.1645 -13.54730   2.14787   0.085490  0.672583  4.73538  26.0314   \n",
       "1    1   35.8820  -5.29631   3.39048   0.081309  0.589654  4.82170  26.2659   \n",
       "2    1   28.2685   5.36795   4.50515   0.220880  1.225100  4.74903  23.2961   \n",
       "3    1   27.8134 -11.50460   2.30621   0.353542  2.226290  5.55894  14.3673   \n",
       "4    1   16.0193  -4.73809   2.47356   0.409711  2.607220  5.76708  13.9874   \n",
       "\n",
       "                     geometry  \n",
       "0  POINT (-82.22100 24.50021)  \n",
       "1  POINT (-81.16694 25.14926)  \n",
       "2  POINT (-90.58674 29.24938)  \n",
       "3  POINT (-76.05466 36.96940)  \n",
       "4  POINT (-76.38891 39.27398)  "
      ]
     },
     "execution_count": 4,
     "metadata": {},
     "output_type": "execute_result"
    }
   ],
   "source": [
    "coastline_shp.head()"
   ]
  },
  {
   "cell_type": "code",
   "execution_count": 5,
   "id": "3f05bcfa",
   "metadata": {},
   "outputs": [
    {
     "data": {
      "text/html": [
       "<div>\n",
       "<style scoped>\n",
       "    .dataframe tbody tr th:only-of-type {\n",
       "        vertical-align: middle;\n",
       "    }\n",
       "\n",
       "    .dataframe tbody tr th {\n",
       "        vertical-align: top;\n",
       "    }\n",
       "\n",
       "    .dataframe thead th {\n",
       "        text-align: right;\n",
       "    }\n",
       "</style>\n",
       "<table border=\"1\" class=\"dataframe\">\n",
       "  <thead>\n",
       "    <tr style=\"text-align: right;\">\n",
       "      <th></th>\n",
       "      <th>CID</th>\n",
       "      <th>salinity</th>\n",
       "      <th>srtm30</th>\n",
       "      <th>silicate</th>\n",
       "      <th>phosphate</th>\n",
       "      <th>nitrate</th>\n",
       "      <th>disso2</th>\n",
       "      <th>temp</th>\n",
       "      <th>geometry</th>\n",
       "      <th>x</th>\n",
       "      <th>y</th>\n",
       "    </tr>\n",
       "  </thead>\n",
       "  <tbody>\n",
       "    <tr>\n",
       "      <th>0</th>\n",
       "      <td>1</td>\n",
       "      <td>36.1645</td>\n",
       "      <td>-13.54730</td>\n",
       "      <td>2.14787</td>\n",
       "      <td>0.085490</td>\n",
       "      <td>0.672583</td>\n",
       "      <td>4.73538</td>\n",
       "      <td>26.0314</td>\n",
       "      <td>POINT (-82.22100 24.50021)</td>\n",
       "      <td>-82.221000</td>\n",
       "      <td>24.500212</td>\n",
       "    </tr>\n",
       "    <tr>\n",
       "      <th>1</th>\n",
       "      <td>1</td>\n",
       "      <td>35.8820</td>\n",
       "      <td>-5.29631</td>\n",
       "      <td>3.39048</td>\n",
       "      <td>0.081309</td>\n",
       "      <td>0.589654</td>\n",
       "      <td>4.82170</td>\n",
       "      <td>26.2659</td>\n",
       "      <td>POINT (-81.16694 25.14926)</td>\n",
       "      <td>-81.166938</td>\n",
       "      <td>25.149262</td>\n",
       "    </tr>\n",
       "    <tr>\n",
       "      <th>2</th>\n",
       "      <td>1</td>\n",
       "      <td>28.2685</td>\n",
       "      <td>5.36795</td>\n",
       "      <td>4.50515</td>\n",
       "      <td>0.220880</td>\n",
       "      <td>1.225100</td>\n",
       "      <td>4.74903</td>\n",
       "      <td>23.2961</td>\n",
       "      <td>POINT (-90.58674 29.24938)</td>\n",
       "      <td>-90.586741</td>\n",
       "      <td>29.249380</td>\n",
       "    </tr>\n",
       "    <tr>\n",
       "      <th>3</th>\n",
       "      <td>1</td>\n",
       "      <td>27.8134</td>\n",
       "      <td>-11.50460</td>\n",
       "      <td>2.30621</td>\n",
       "      <td>0.353542</td>\n",
       "      <td>2.226290</td>\n",
       "      <td>5.55894</td>\n",
       "      <td>14.3673</td>\n",
       "      <td>POINT (-76.05466 36.96940)</td>\n",
       "      <td>-76.054661</td>\n",
       "      <td>36.969399</td>\n",
       "    </tr>\n",
       "    <tr>\n",
       "      <th>4</th>\n",
       "      <td>1</td>\n",
       "      <td>16.0193</td>\n",
       "      <td>-4.73809</td>\n",
       "      <td>2.47356</td>\n",
       "      <td>0.409711</td>\n",
       "      <td>2.607220</td>\n",
       "      <td>5.76708</td>\n",
       "      <td>13.9874</td>\n",
       "      <td>POINT (-76.38891 39.27398)</td>\n",
       "      <td>-76.388908</td>\n",
       "      <td>39.273977</td>\n",
       "    </tr>\n",
       "  </tbody>\n",
       "</table>\n",
       "</div>"
      ],
      "text/plain": [
       "   CID  salinity    srtm30  silicate  phosphate   nitrate   disso2     temp  \\\n",
       "0    1   36.1645 -13.54730   2.14787   0.085490  0.672583  4.73538  26.0314   \n",
       "1    1   35.8820  -5.29631   3.39048   0.081309  0.589654  4.82170  26.2659   \n",
       "2    1   28.2685   5.36795   4.50515   0.220880  1.225100  4.74903  23.2961   \n",
       "3    1   27.8134 -11.50460   2.30621   0.353542  2.226290  5.55894  14.3673   \n",
       "4    1   16.0193  -4.73809   2.47356   0.409711  2.607220  5.76708  13.9874   \n",
       "\n",
       "                     geometry          x          y  \n",
       "0  POINT (-82.22100 24.50021) -82.221000  24.500212  \n",
       "1  POINT (-81.16694 25.14926) -81.166938  25.149262  \n",
       "2  POINT (-90.58674 29.24938) -90.586741  29.249380  \n",
       "3  POINT (-76.05466 36.96940) -76.054661  36.969399  \n",
       "4  POINT (-76.38891 39.27398) -76.388908  39.273977  "
      ]
     },
     "execution_count": 5,
     "metadata": {},
     "output_type": "execute_result"
    }
   ],
   "source": [
    "coastline_shp[\"x\"] = coastline_shp[\"geometry\"].x\n",
    "coastline_shp[\"y\"] = coastline_shp[\"geometry\"].y\n",
    "coastline_shp.head()"
   ]
  },
  {
   "cell_type": "code",
   "execution_count": 6,
   "id": "7de61e90",
   "metadata": {},
   "outputs": [],
   "source": [
    "training_data = coastline_shp.sample(frac=0.8, random_state=42)\n",
    "test_data = coastline_shp.drop(training_data.index)"
   ]
  },
  {
   "cell_type": "code",
   "execution_count": 8,
   "id": "24cb565a",
   "metadata": {},
   "outputs": [],
   "source": [
    "training_X = training_data[[\"salinity\",\"srtm30\", \"silicate\", \"phosphate\", \"disso2\",\"temp\",\"x\",\"y\"]]\n",
    "training_y = training_data[\"nitrate\"]\n"
   ]
  },
  {
   "cell_type": "code",
   "execution_count": 9,
   "id": "36772899",
   "metadata": {},
   "outputs": [
    {
     "data": {
      "text/html": [
       "<div>\n",
       "<style scoped>\n",
       "    .dataframe tbody tr th:only-of-type {\n",
       "        vertical-align: middle;\n",
       "    }\n",
       "\n",
       "    .dataframe tbody tr th {\n",
       "        vertical-align: top;\n",
       "    }\n",
       "\n",
       "    .dataframe thead th {\n",
       "        text-align: right;\n",
       "    }\n",
       "</style>\n",
       "<table border=\"1\" class=\"dataframe\">\n",
       "  <thead>\n",
       "    <tr style=\"text-align: right;\">\n",
       "      <th></th>\n",
       "      <th>salinity</th>\n",
       "      <th>srtm30</th>\n",
       "      <th>silicate</th>\n",
       "      <th>phosphate</th>\n",
       "      <th>disso2</th>\n",
       "      <th>temp</th>\n",
       "      <th>x</th>\n",
       "      <th>y</th>\n",
       "    </tr>\n",
       "  </thead>\n",
       "  <tbody>\n",
       "    <tr>\n",
       "      <th>6252</th>\n",
       "      <td>33.1483</td>\n",
       "      <td>-56.1788</td>\n",
       "      <td>17.08550</td>\n",
       "      <td>1.138370</td>\n",
       "      <td>5.36714</td>\n",
       "      <td>9.83431</td>\n",
       "      <td>-124.496989</td>\n",
       "      <td>42.579380</td>\n",
       "    </tr>\n",
       "    <tr>\n",
       "      <th>4684</th>\n",
       "      <td>35.7009</td>\n",
       "      <td>-21.0945</td>\n",
       "      <td>1.38960</td>\n",
       "      <td>0.199679</td>\n",
       "      <td>5.05932</td>\n",
       "      <td>21.88080</td>\n",
       "      <td>-77.202987</td>\n",
       "      <td>34.580760</td>\n",
       "    </tr>\n",
       "    <tr>\n",
       "      <th>1731</th>\n",
       "      <td>35.4923</td>\n",
       "      <td>-17.9311</td>\n",
       "      <td>2.58428</td>\n",
       "      <td>0.131155</td>\n",
       "      <td>4.91319</td>\n",
       "      <td>23.08300</td>\n",
       "      <td>-81.368064</td>\n",
       "      <td>30.280428</td>\n",
       "    </tr>\n",
       "    <tr>\n",
       "      <th>4742</th>\n",
       "      <td>30.8778</td>\n",
       "      <td>-57.5877</td>\n",
       "      <td>15.09390</td>\n",
       "      <td>1.082800</td>\n",
       "      <td>6.37896</td>\n",
       "      <td>9.31756</td>\n",
       "      <td>-122.636420</td>\n",
       "      <td>48.201936</td>\n",
       "    </tr>\n",
       "    <tr>\n",
       "      <th>4521</th>\n",
       "      <td>32.6253</td>\n",
       "      <td>-68.5389</td>\n",
       "      <td>4.57709</td>\n",
       "      <td>0.671806</td>\n",
       "      <td>6.41385</td>\n",
       "      <td>7.43766</td>\n",
       "      <td>-67.829796</td>\n",
       "      <td>44.443662</td>\n",
       "    </tr>\n",
       "  </tbody>\n",
       "</table>\n",
       "</div>"
      ],
      "text/plain": [
       "      salinity   srtm30  silicate  phosphate   disso2      temp           x  \\\n",
       "6252   33.1483 -56.1788  17.08550   1.138370  5.36714   9.83431 -124.496989   \n",
       "4684   35.7009 -21.0945   1.38960   0.199679  5.05932  21.88080  -77.202987   \n",
       "1731   35.4923 -17.9311   2.58428   0.131155  4.91319  23.08300  -81.368064   \n",
       "4742   30.8778 -57.5877  15.09390   1.082800  6.37896   9.31756 -122.636420   \n",
       "4521   32.6253 -68.5389   4.57709   0.671806  6.41385   7.43766  -67.829796   \n",
       "\n",
       "              y  \n",
       "6252  42.579380  \n",
       "4684  34.580760  \n",
       "1731  30.280428  \n",
       "4742  48.201936  \n",
       "4521  44.443662  "
      ]
     },
     "execution_count": 9,
     "metadata": {},
     "output_type": "execute_result"
    }
   ],
   "source": [
    "training_X.head()"
   ]
  },
  {
   "cell_type": "code",
   "execution_count": 10,
   "id": "7887d883",
   "metadata": {},
   "outputs": [
    {
     "data": {
      "text/plain": [
       "6252    9.058800\n",
       "4684    1.079670\n",
       "1731    0.844095\n",
       "4742    7.414680\n",
       "4521    5.384510\n",
       "Name: nitrate, dtype: float64"
      ]
     },
     "execution_count": 10,
     "metadata": {},
     "output_type": "execute_result"
    }
   ],
   "source": [
    "training_y.head()"
   ]
  },
  {
   "cell_type": "code",
   "execution_count": 11,
   "id": "1eea7be5",
   "metadata": {},
   "outputs": [],
   "source": [
    "test_X = test_data[[\"salinity\",\"srtm30\", \"silicate\", \"phosphate\", \"disso2\",\"temp\",\"x\",\"y\"]]\n",
    "test_y = test_data[\"nitrate\"]"
   ]
  },
  {
   "cell_type": "code",
   "execution_count": 12,
   "id": "d6d59bc9",
   "metadata": {},
   "outputs": [
    {
     "data": {
      "text/html": [
       "<div>\n",
       "<style scoped>\n",
       "    .dataframe tbody tr th:only-of-type {\n",
       "        vertical-align: middle;\n",
       "    }\n",
       "\n",
       "    .dataframe tbody tr th {\n",
       "        vertical-align: top;\n",
       "    }\n",
       "\n",
       "    .dataframe thead th {\n",
       "        text-align: right;\n",
       "    }\n",
       "</style>\n",
       "<table border=\"1\" class=\"dataframe\">\n",
       "  <thead>\n",
       "    <tr style=\"text-align: right;\">\n",
       "      <th></th>\n",
       "      <th>salinity</th>\n",
       "      <th>srtm30</th>\n",
       "      <th>silicate</th>\n",
       "      <th>phosphate</th>\n",
       "      <th>disso2</th>\n",
       "      <th>temp</th>\n",
       "      <th>x</th>\n",
       "      <th>y</th>\n",
       "    </tr>\n",
       "  </thead>\n",
       "  <tbody>\n",
       "    <tr>\n",
       "      <th>1</th>\n",
       "      <td>35.8820</td>\n",
       "      <td>-5.29631</td>\n",
       "      <td>3.39048</td>\n",
       "      <td>0.081309</td>\n",
       "      <td>4.82170</td>\n",
       "      <td>26.2659</td>\n",
       "      <td>-81.166938</td>\n",
       "      <td>25.149262</td>\n",
       "    </tr>\n",
       "    <tr>\n",
       "      <th>4</th>\n",
       "      <td>16.0193</td>\n",
       "      <td>-4.73809</td>\n",
       "      <td>2.47356</td>\n",
       "      <td>0.409711</td>\n",
       "      <td>5.76708</td>\n",
       "      <td>13.9874</td>\n",
       "      <td>-76.388908</td>\n",
       "      <td>39.273977</td>\n",
       "    </tr>\n",
       "    <tr>\n",
       "      <th>5</th>\n",
       "      <td>32.8363</td>\n",
       "      <td>-23.88640</td>\n",
       "      <td>2.49948</td>\n",
       "      <td>0.447603</td>\n",
       "      <td>6.09137</td>\n",
       "      <td>11.0929</td>\n",
       "      <td>-74.619716</td>\n",
       "      <td>39.199345</td>\n",
       "    </tr>\n",
       "    <tr>\n",
       "      <th>9</th>\n",
       "      <td>33.2107</td>\n",
       "      <td>-66.57840</td>\n",
       "      <td>14.07950</td>\n",
       "      <td>1.038130</td>\n",
       "      <td>5.11104</td>\n",
       "      <td>10.9927</td>\n",
       "      <td>-123.831919</td>\n",
       "      <td>39.315070</td>\n",
       "    </tr>\n",
       "    <tr>\n",
       "      <th>11</th>\n",
       "      <td>36.1044</td>\n",
       "      <td>-6.67929</td>\n",
       "      <td>2.73115</td>\n",
       "      <td>0.082114</td>\n",
       "      <td>4.66640</td>\n",
       "      <td>26.3431</td>\n",
       "      <td>-81.561696</td>\n",
       "      <td>24.817648</td>\n",
       "    </tr>\n",
       "  </tbody>\n",
       "</table>\n",
       "</div>"
      ],
      "text/plain": [
       "    salinity    srtm30  silicate  phosphate   disso2     temp           x  \\\n",
       "1    35.8820  -5.29631   3.39048   0.081309  4.82170  26.2659  -81.166938   \n",
       "4    16.0193  -4.73809   2.47356   0.409711  5.76708  13.9874  -76.388908   \n",
       "5    32.8363 -23.88640   2.49948   0.447603  6.09137  11.0929  -74.619716   \n",
       "9    33.2107 -66.57840  14.07950   1.038130  5.11104  10.9927 -123.831919   \n",
       "11   36.1044  -6.67929   2.73115   0.082114  4.66640  26.3431  -81.561696   \n",
       "\n",
       "            y  \n",
       "1   25.149262  \n",
       "4   39.273977  \n",
       "5   39.199345  \n",
       "9   39.315070  \n",
       "11  24.817648  "
      ]
     },
     "execution_count": 12,
     "metadata": {},
     "output_type": "execute_result"
    }
   ],
   "source": [
    "test_X.head()"
   ]
  },
  {
   "cell_type": "code",
   "execution_count": 13,
   "id": "6b645d06",
   "metadata": {},
   "outputs": [
    {
     "data": {
      "text/plain": [
       "1     0.589654\n",
       "4     2.607220\n",
       "5     2.762620\n",
       "9     8.105710\n",
       "11    0.697750\n",
       "Name: nitrate, dtype: float64"
      ]
     },
     "execution_count": 13,
     "metadata": {},
     "output_type": "execute_result"
    }
   ],
   "source": [
    "test_y.head()"
   ]
  },
  {
   "cell_type": "code",
   "execution_count": 14,
   "id": "fd69ea23",
   "metadata": {},
   "outputs": [],
   "source": [
    "def standardize_data(data, stats):\n",
    "    return (data - stats['mean'])/stats['std']"
   ]
  },
  {
   "cell_type": "code",
   "execution_count": 15,
   "id": "093dbdc3",
   "metadata": {},
   "outputs": [
    {
     "data": {
      "text/html": [
       "<div>\n",
       "<style scoped>\n",
       "    .dataframe tbody tr th:only-of-type {\n",
       "        vertical-align: middle;\n",
       "    }\n",
       "\n",
       "    .dataframe tbody tr th {\n",
       "        vertical-align: top;\n",
       "    }\n",
       "\n",
       "    .dataframe thead th {\n",
       "        text-align: right;\n",
       "    }\n",
       "</style>\n",
       "<table border=\"1\" class=\"dataframe\">\n",
       "  <thead>\n",
       "    <tr style=\"text-align: right;\">\n",
       "      <th></th>\n",
       "      <th>count</th>\n",
       "      <th>mean</th>\n",
       "      <th>std</th>\n",
       "      <th>min</th>\n",
       "      <th>25%</th>\n",
       "      <th>50%</th>\n",
       "      <th>75%</th>\n",
       "      <th>max</th>\n",
       "    </tr>\n",
       "  </thead>\n",
       "  <tbody>\n",
       "    <tr>\n",
       "      <th>salinity</th>\n",
       "      <td>8000.0</td>\n",
       "      <td>32.076842</td>\n",
       "      <td>3.840187</td>\n",
       "      <td>12.673200</td>\n",
       "      <td>31.098200</td>\n",
       "      <td>32.422650</td>\n",
       "      <td>34.911700</td>\n",
       "      <td>36.830200</td>\n",
       "    </tr>\n",
       "    <tr>\n",
       "      <th>srtm30</th>\n",
       "      <td>8000.0</td>\n",
       "      <td>-23.863390</td>\n",
       "      <td>21.752314</td>\n",
       "      <td>-114.478000</td>\n",
       "      <td>-37.434100</td>\n",
       "      <td>-17.971800</td>\n",
       "      <td>-6.471520</td>\n",
       "      <td>9.989880</td>\n",
       "    </tr>\n",
       "    <tr>\n",
       "      <th>silicate</th>\n",
       "      <td>8000.0</td>\n",
       "      <td>5.366715</td>\n",
       "      <td>4.767795</td>\n",
       "      <td>0.883515</td>\n",
       "      <td>2.454580</td>\n",
       "      <td>3.482660</td>\n",
       "      <td>4.285680</td>\n",
       "      <td>17.366300</td>\n",
       "    </tr>\n",
       "    <tr>\n",
       "      <th>phosphate</th>\n",
       "      <td>8000.0</td>\n",
       "      <td>0.445437</td>\n",
       "      <td>0.349368</td>\n",
       "      <td>0.057359</td>\n",
       "      <td>0.150106</td>\n",
       "      <td>0.362048</td>\n",
       "      <td>0.604953</td>\n",
       "      <td>1.164930</td>\n",
       "    </tr>\n",
       "    <tr>\n",
       "      <th>disso2</th>\n",
       "      <td>8000.0</td>\n",
       "      <td>5.428788</td>\n",
       "      <td>0.673296</td>\n",
       "      <td>4.542900</td>\n",
       "      <td>4.801210</td>\n",
       "      <td>5.138250</td>\n",
       "      <td>6.166140</td>\n",
       "      <td>6.745130</td>\n",
       "    </tr>\n",
       "    <tr>\n",
       "      <th>temp</th>\n",
       "      <td>8000.0</td>\n",
       "      <td>16.639811</td>\n",
       "      <td>6.719949</td>\n",
       "      <td>7.092050</td>\n",
       "      <td>9.941270</td>\n",
       "      <td>14.367300</td>\n",
       "      <td>22.998700</td>\n",
       "      <td>26.763200</td>\n",
       "    </tr>\n",
       "    <tr>\n",
       "      <th>x</th>\n",
       "      <td>8000.0</td>\n",
       "      <td>-89.072117</td>\n",
       "      <td>18.564714</td>\n",
       "      <td>-124.821279</td>\n",
       "      <td>-94.770370</td>\n",
       "      <td>-81.845184</td>\n",
       "      <td>-75.784093</td>\n",
       "      <td>-66.884505</td>\n",
       "    </tr>\n",
       "    <tr>\n",
       "      <th>y</th>\n",
       "      <td>8000.0</td>\n",
       "      <td>35.850917</td>\n",
       "      <td>7.253365</td>\n",
       "      <td>24.458206</td>\n",
       "      <td>29.442121</td>\n",
       "      <td>36.972908</td>\n",
       "      <td>41.565428</td>\n",
       "      <td>49.069979</td>\n",
       "    </tr>\n",
       "  </tbody>\n",
       "</table>\n",
       "</div>"
      ],
      "text/plain": [
       "            count       mean        std         min        25%        50%  \\\n",
       "salinity   8000.0  32.076842   3.840187   12.673200  31.098200  32.422650   \n",
       "srtm30     8000.0 -23.863390  21.752314 -114.478000 -37.434100 -17.971800   \n",
       "silicate   8000.0   5.366715   4.767795    0.883515   2.454580   3.482660   \n",
       "phosphate  8000.0   0.445437   0.349368    0.057359   0.150106   0.362048   \n",
       "disso2     8000.0   5.428788   0.673296    4.542900   4.801210   5.138250   \n",
       "temp       8000.0  16.639811   6.719949    7.092050   9.941270  14.367300   \n",
       "x          8000.0 -89.072117  18.564714 -124.821279 -94.770370 -81.845184   \n",
       "y          8000.0  35.850917   7.253365   24.458206  29.442121  36.972908   \n",
       "\n",
       "                 75%        max  \n",
       "salinity   34.911700  36.830200  \n",
       "srtm30     -6.471520   9.989880  \n",
       "silicate    4.285680  17.366300  \n",
       "phosphate   0.604953   1.164930  \n",
       "disso2      6.166140   6.745130  \n",
       "temp       22.998700  26.763200  \n",
       "x         -75.784093 -66.884505  \n",
       "y          41.565428  49.069979  "
      ]
     },
     "execution_count": 15,
     "metadata": {},
     "output_type": "execute_result"
    }
   ],
   "source": [
    "training_stats = training_X.describe().transpose()\n",
    "training_stats"
   ]
  },
  {
   "cell_type": "code",
   "execution_count": 17,
   "id": "f67d04bb",
   "metadata": {},
   "outputs": [
    {
     "data": {
      "text/html": [
       "<div>\n",
       "<style scoped>\n",
       "    .dataframe tbody tr th:only-of-type {\n",
       "        vertical-align: middle;\n",
       "    }\n",
       "\n",
       "    .dataframe tbody tr th {\n",
       "        vertical-align: top;\n",
       "    }\n",
       "\n",
       "    .dataframe thead th {\n",
       "        text-align: right;\n",
       "    }\n",
       "</style>\n",
       "<table border=\"1\" class=\"dataframe\">\n",
       "  <thead>\n",
       "    <tr style=\"text-align: right;\">\n",
       "      <th></th>\n",
       "      <th>salinity</th>\n",
       "      <th>srtm30</th>\n",
       "      <th>silicate</th>\n",
       "      <th>phosphate</th>\n",
       "      <th>disso2</th>\n",
       "      <th>temp</th>\n",
       "      <th>x</th>\n",
       "      <th>y</th>\n",
       "    </tr>\n",
       "  </thead>\n",
       "  <tbody>\n",
       "    <tr>\n",
       "      <th>count</th>\n",
       "      <td>8000.000000</td>\n",
       "      <td>8000.000000</td>\n",
       "      <td>8000.000000</td>\n",
       "      <td>8000.000000</td>\n",
       "      <td>8000.000000</td>\n",
       "      <td>8000.000000</td>\n",
       "      <td>8000.000000</td>\n",
       "      <td>8000.000000</td>\n",
       "    </tr>\n",
       "    <tr>\n",
       "      <th>mean</th>\n",
       "      <td>32.076842</td>\n",
       "      <td>-23.863390</td>\n",
       "      <td>5.366715</td>\n",
       "      <td>0.445437</td>\n",
       "      <td>5.428788</td>\n",
       "      <td>16.639811</td>\n",
       "      <td>-89.072117</td>\n",
       "      <td>35.850917</td>\n",
       "    </tr>\n",
       "    <tr>\n",
       "      <th>std</th>\n",
       "      <td>3.840187</td>\n",
       "      <td>21.752314</td>\n",
       "      <td>4.767795</td>\n",
       "      <td>0.349368</td>\n",
       "      <td>0.673296</td>\n",
       "      <td>6.719949</td>\n",
       "      <td>18.564714</td>\n",
       "      <td>7.253365</td>\n",
       "    </tr>\n",
       "    <tr>\n",
       "      <th>min</th>\n",
       "      <td>12.673200</td>\n",
       "      <td>-114.478000</td>\n",
       "      <td>0.883515</td>\n",
       "      <td>0.057359</td>\n",
       "      <td>4.542900</td>\n",
       "      <td>7.092050</td>\n",
       "      <td>-124.821279</td>\n",
       "      <td>24.458206</td>\n",
       "    </tr>\n",
       "    <tr>\n",
       "      <th>25%</th>\n",
       "      <td>31.098200</td>\n",
       "      <td>-37.434100</td>\n",
       "      <td>2.454580</td>\n",
       "      <td>0.150106</td>\n",
       "      <td>4.801210</td>\n",
       "      <td>9.941270</td>\n",
       "      <td>-94.770370</td>\n",
       "      <td>29.442121</td>\n",
       "    </tr>\n",
       "    <tr>\n",
       "      <th>50%</th>\n",
       "      <td>32.422650</td>\n",
       "      <td>-17.971800</td>\n",
       "      <td>3.482660</td>\n",
       "      <td>0.362048</td>\n",
       "      <td>5.138250</td>\n",
       "      <td>14.367300</td>\n",
       "      <td>-81.845184</td>\n",
       "      <td>36.972908</td>\n",
       "    </tr>\n",
       "    <tr>\n",
       "      <th>75%</th>\n",
       "      <td>34.911700</td>\n",
       "      <td>-6.471520</td>\n",
       "      <td>4.285680</td>\n",
       "      <td>0.604953</td>\n",
       "      <td>6.166140</td>\n",
       "      <td>22.998700</td>\n",
       "      <td>-75.784093</td>\n",
       "      <td>41.565428</td>\n",
       "    </tr>\n",
       "    <tr>\n",
       "      <th>max</th>\n",
       "      <td>36.830200</td>\n",
       "      <td>9.989880</td>\n",
       "      <td>17.366300</td>\n",
       "      <td>1.164930</td>\n",
       "      <td>6.745130</td>\n",
       "      <td>26.763200</td>\n",
       "      <td>-66.884505</td>\n",
       "      <td>49.069979</td>\n",
       "    </tr>\n",
       "  </tbody>\n",
       "</table>\n",
       "</div>"
      ],
      "text/plain": [
       "          salinity       srtm30     silicate    phosphate       disso2  \\\n",
       "count  8000.000000  8000.000000  8000.000000  8000.000000  8000.000000   \n",
       "mean     32.076842   -23.863390     5.366715     0.445437     5.428788   \n",
       "std       3.840187    21.752314     4.767795     0.349368     0.673296   \n",
       "min      12.673200  -114.478000     0.883515     0.057359     4.542900   \n",
       "25%      31.098200   -37.434100     2.454580     0.150106     4.801210   \n",
       "50%      32.422650   -17.971800     3.482660     0.362048     5.138250   \n",
       "75%      34.911700    -6.471520     4.285680     0.604953     6.166140   \n",
       "max      36.830200     9.989880    17.366300     1.164930     6.745130   \n",
       "\n",
       "              temp            x            y  \n",
       "count  8000.000000  8000.000000  8000.000000  \n",
       "mean     16.639811   -89.072117    35.850917  \n",
       "std       6.719949    18.564714     7.253365  \n",
       "min       7.092050  -124.821279    24.458206  \n",
       "25%       9.941270   -94.770370    29.442121  \n",
       "50%      14.367300   -81.845184    36.972908  \n",
       "75%      22.998700   -75.784093    41.565428  \n",
       "max      26.763200   -66.884505    49.069979  "
      ]
     },
     "execution_count": 17,
     "metadata": {},
     "output_type": "execute_result"
    }
   ],
   "source": [
    "training_X.describe()"
   ]
  },
  {
   "cell_type": "code",
   "execution_count": 18,
   "id": "5468633c",
   "metadata": {},
   "outputs": [],
   "source": [
    "training_X_std = standardize_data(training_X, training_stats)"
   ]
  },
  {
   "cell_type": "code",
   "execution_count": 19,
   "id": "d13692ce",
   "metadata": {},
   "outputs": [
    {
     "data": {
      "text/html": [
       "<div>\n",
       "<style scoped>\n",
       "    .dataframe tbody tr th:only-of-type {\n",
       "        vertical-align: middle;\n",
       "    }\n",
       "\n",
       "    .dataframe tbody tr th {\n",
       "        vertical-align: top;\n",
       "    }\n",
       "\n",
       "    .dataframe thead th {\n",
       "        text-align: right;\n",
       "    }\n",
       "</style>\n",
       "<table border=\"1\" class=\"dataframe\">\n",
       "  <thead>\n",
       "    <tr style=\"text-align: right;\">\n",
       "      <th></th>\n",
       "      <th>salinity</th>\n",
       "      <th>srtm30</th>\n",
       "      <th>silicate</th>\n",
       "      <th>phosphate</th>\n",
       "      <th>disso2</th>\n",
       "      <th>temp</th>\n",
       "      <th>x</th>\n",
       "      <th>y</th>\n",
       "    </tr>\n",
       "  </thead>\n",
       "  <tbody>\n",
       "    <tr>\n",
       "      <th>6252</th>\n",
       "      <td>0.279012</td>\n",
       "      <td>-1.485608</td>\n",
       "      <td>2.457905</td>\n",
       "      <td>1.983390</td>\n",
       "      <td>-0.091562</td>\n",
       "      <td>-1.012731</td>\n",
       "      <td>-1.908183</td>\n",
       "      <td>0.927633</td>\n",
       "    </tr>\n",
       "    <tr>\n",
       "      <th>4684</th>\n",
       "      <td>0.943719</td>\n",
       "      <td>0.127292</td>\n",
       "      <td>-0.834162</td>\n",
       "      <td>-0.703435</td>\n",
       "      <td>-0.548746</td>\n",
       "      <td>0.779915</td>\n",
       "      <td>0.639338</td>\n",
       "      <td>-0.175113</td>\n",
       "    </tr>\n",
       "    <tr>\n",
       "      <th>1731</th>\n",
       "      <td>0.889399</td>\n",
       "      <td>0.272720</td>\n",
       "      <td>-0.583590</td>\n",
       "      <td>-0.899572</td>\n",
       "      <td>-0.765783</td>\n",
       "      <td>0.958815</td>\n",
       "      <td>0.414984</td>\n",
       "      <td>-0.767987</td>\n",
       "    </tr>\n",
       "    <tr>\n",
       "      <th>4742</th>\n",
       "      <td>-0.312235</td>\n",
       "      <td>-1.550378</td>\n",
       "      <td>2.040185</td>\n",
       "      <td>1.824331</td>\n",
       "      <td>1.411225</td>\n",
       "      <td>-1.089629</td>\n",
       "      <td>-1.807962</td>\n",
       "      <td>1.702798</td>\n",
       "    </tr>\n",
       "    <tr>\n",
       "      <th>4521</th>\n",
       "      <td>0.142821</td>\n",
       "      <td>-2.053828</td>\n",
       "      <td>-0.165616</td>\n",
       "      <td>0.647939</td>\n",
       "      <td>1.463045</td>\n",
       "      <td>-1.369378</td>\n",
       "      <td>1.144231</td>\n",
       "      <td>1.184656</td>\n",
       "    </tr>\n",
       "  </tbody>\n",
       "</table>\n",
       "</div>"
      ],
      "text/plain": [
       "      salinity    srtm30  silicate  phosphate    disso2      temp         x  \\\n",
       "6252  0.279012 -1.485608  2.457905   1.983390 -0.091562 -1.012731 -1.908183   \n",
       "4684  0.943719  0.127292 -0.834162  -0.703435 -0.548746  0.779915  0.639338   \n",
       "1731  0.889399  0.272720 -0.583590  -0.899572 -0.765783  0.958815  0.414984   \n",
       "4742 -0.312235 -1.550378  2.040185   1.824331  1.411225 -1.089629 -1.807962   \n",
       "4521  0.142821 -2.053828 -0.165616   0.647939  1.463045 -1.369378  1.144231   \n",
       "\n",
       "             y  \n",
       "6252  0.927633  \n",
       "4684 -0.175113  \n",
       "1731 -0.767987  \n",
       "4742  1.702798  \n",
       "4521  1.184656  "
      ]
     },
     "execution_count": 19,
     "metadata": {},
     "output_type": "execute_result"
    }
   ],
   "source": [
    "training_X_std.head()"
   ]
  },
  {
   "cell_type": "code",
   "execution_count": 20,
   "id": "b1dd202b",
   "metadata": {},
   "outputs": [],
   "source": [
    "test_X_std = standardize_data(test_X, training_stats)"
   ]
  },
  {
   "cell_type": "code",
   "execution_count": 36,
   "id": "e436e658",
   "metadata": {},
   "outputs": [],
   "source": [
    "from sklearn.linear_model import LinearRegression\n",
    "from sklearn.linear_model import Ridge"
   ]
  },
  {
   "cell_type": "code",
   "execution_count": 37,
   "id": "6229315f",
   "metadata": {},
   "outputs": [
    {
     "data": {
      "text/plain": [
       "Ridge()"
      ]
     },
     "execution_count": 37,
     "metadata": {},
     "output_type": "execute_result"
    }
   ],
   "source": [
    "ridge_model = Ridge()\n",
    "ridge_model.fit(training_X_std, training_y)"
   ]
  },
  {
   "cell_type": "code",
   "execution_count": 22,
   "id": "93e1ea48",
   "metadata": {},
   "outputs": [
    {
     "data": {
      "text/plain": [
       "LinearRegression()"
      ]
     },
     "execution_count": 22,
     "metadata": {},
     "output_type": "execute_result"
    }
   ],
   "source": [
    "linear_model = LinearRegression()\n",
    "linear_model.fit(training_X_std, training_y)"
   ]
  },
  {
   "cell_type": "code",
   "execution_count": 23,
   "id": "e5c8fc6b",
   "metadata": {},
   "outputs": [],
   "source": [
    "test_y_pred = linear_model.predict(test_X_std)"
   ]
  },
  {
   "cell_type": "code",
   "execution_count": 38,
   "id": "6a36ce1b",
   "metadata": {},
   "outputs": [],
   "source": [
    "test_y_pred2 = ridge_model.predict(test_X_std)"
   ]
  },
  {
   "cell_type": "code",
   "execution_count": 24,
   "id": "fe2e983f",
   "metadata": {},
   "outputs": [
    {
     "data": {
      "text/plain": [
       "0.6816695058041873"
      ]
     },
     "execution_count": 24,
     "metadata": {},
     "output_type": "execute_result"
    }
   ],
   "source": [
    "test_y_pred[0]"
   ]
  },
  {
   "cell_type": "code",
   "execution_count": 26,
   "id": "ae2ec94e",
   "metadata": {},
   "outputs": [
    {
     "data": {
      "text/plain": [
       "1    0.589654\n",
       "Name: nitrate, dtype: float64"
      ]
     },
     "execution_count": 26,
     "metadata": {},
     "output_type": "execute_result"
    }
   ],
   "source": [
    "test_y[0:1]"
   ]
  },
  {
   "cell_type": "code",
   "execution_count": 27,
   "id": "02648fd9",
   "metadata": {},
   "outputs": [],
   "source": [
    "import matplotlib.pyplot as plt"
   ]
  },
  {
   "cell_type": "code",
   "execution_count": 31,
   "id": "fecd9ece",
   "metadata": {},
   "outputs": [
    {
     "data": {
      "text/plain": [
       "[<matplotlib.lines.Line2D at 0x161cea5ce88>]"
      ]
     },
     "execution_count": 31,
     "metadata": {},
     "output_type": "execute_result"
    },
    {
     "data": {
      "image/png": "[encoded data removed]",
      "text/plain": [
       "<Figure size 432x432 with 1 Axes>"
      ]
     },
     "metadata": {
      "needs_background": "light"
     },
     "output_type": "display_data"
    }
   ],
   "source": [
    "plt.figure(figsize=(6,6))\n",
    "plt.scatter(test_y,test_y_pred,s=15, c='blue')\n",
    "plt.xlabel(\"Observed values\")\n",
    "plt.ylabel(\"Predicted values\")\n",
    "plt.xlim([0, 10])\n",
    "plt.ylim([0, 10])\n",
    "plt.plot([0,10],[0,10],'r--')\n",
    "\n"
   ]
  },
  {
   "cell_type": "code",
   "execution_count": 39,
   "id": "e91bb5a0",
   "metadata": {},
   "outputs": [
    {
     "data": {
      "text/plain": [
       "[<matplotlib.lines.Line2D at 0x161cfc14808>]"
      ]
     },
     "execution_count": 39,
     "metadata": {},
     "output_type": "execute_result"
    },
    {
     "data": {
      "image/png": "[encoded data removed]",
      "text/plain": [
       "<Figure size 432x432 with 1 Axes>"
      ]
     },
     "metadata": {
      "needs_background": "light"
     },
     "output_type": "display_data"
    }
   ],
   "source": [
    "plt.figure(figsize=(6,6))\n",
    "plt.scatter(test_y,test_y_pred2,s=15, c='blue')\n",
    "plt.xlabel(\"Observed values\")\n",
    "plt.ylabel(\"Predicted values\")\n",
    "plt.xlim([0, 10])\n",
    "plt.ylim([0, 10])\n",
    "plt.plot([0,10],[0,10],'r--')"
   ]
  },
  {
   "cell_type": "code",
   "execution_count": 32,
   "id": "fd77756e",
   "metadata": {},
   "outputs": [],
   "source": [
    "from sklearn.metrics import mean_squared_error\n"
   ]
  },
  {
   "cell_type": "code",
   "execution_count": 33,
   "id": "bfdcb638",
   "metadata": {},
   "outputs": [
    {
     "data": {
      "text/plain": [
       "0.22856738574157417"
      ]
     },
     "execution_count": 33,
     "metadata": {},
     "output_type": "execute_result"
    }
   ],
   "source": [
    "rmse = mean_squared_error(test_y,test_y_pred,squared=False)\n",
    "rmse"
   ]
  },
  {
   "cell_type": "code",
   "execution_count": 40,
   "id": "1292e67d",
   "metadata": {},
   "outputs": [
    {
     "data": {
      "text/plain": [
       "0.22861905238602645"
      ]
     },
     "execution_count": 40,
     "metadata": {},
     "output_type": "execute_result"
    }
   ],
   "source": [
    "rmse = mean_squared_error(test_y,test_y_pred2,squared=False)\n",
    "rmse"
   ]
  },
  {
   "cell_type": "code",
   "execution_count": 34,
   "id": "b87fc000",
   "metadata": {},
   "outputs": [],
   "source": [
    "from scipy import stats"
   ]
  },
  {
   "cell_type": "code",
   "execution_count": 35,
   "id": "4241a817",
   "metadata": {},
   "outputs": [
    {
     "data": {
      "text/plain": [
       "(0.9964267781327345, 0.0)"
      ]
     },
     "execution_count": 35,
     "metadata": {},
     "output_type": "execute_result"
    }
   ],
   "source": [
    "stats.pearsonr(test_y,test_y_pred)"
   ]
  },
  {
   "cell_type": "code",
   "execution_count": 41,
   "id": "56e6ed70",
   "metadata": {},
   "outputs": [
    {
     "data": {
      "text/plain": [
       "(0.9964263519921293, 0.0)"
      ]
     },
     "execution_count": 41,
     "metadata": {},
     "output_type": "execute_result"
    }
   ],
   "source": [
    "stats.pearsonr(test_y,test_y_pred2)"
   ]
  },
  {
   "cell_type": "code",
   "execution_count": null,
   "id": "f28aeec0",
   "metadata": {},
   "outputs": [],
   "source": []
  }
 ],
 "metadata": {
  "kernelspec": {
   "display_name": "Python 3 (ipykernel)",
   "language": "python",
   "name": "python3"
  },
  "language_info": {
   "codemirror_mode": {
    "name": "ipython",
    "version": 3
   },
   "file_extension": ".py",
   "mimetype": "text/x-python",
   "name": "python",
   "nbconvert_exporter": "python",
   "pygments_lexer": "ipython3",
   "version": "3.7.11"
  }
 },
 "nbformat": 4,
 "nbformat_minor": 5
}
